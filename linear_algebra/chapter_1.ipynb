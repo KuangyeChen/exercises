{
 "cells": [
  {
   "cell_type": "code",
   "execution_count": 1,
   "metadata": {},
   "outputs": [],
   "source": [
    "import numpy as np"
   ]
  },
  {
   "cell_type": "markdown",
   "metadata": {},
   "source": [
    "# Vectors and Linear Combinations\n",
    "- addition\n",
    "- linear combination"
   ]
  },
  {
   "cell_type": "markdown",
   "metadata": {},
   "source": [
    "# Lengths and Dot Products\n",
    "- Dot product, perpendicular\n",
    "- length, unit vector\n",
    "- Triangle inequality, Schwarz inequality, 均值不等式"
   ]
  },
  {
   "cell_type": "markdown",
   "metadata": {},
   "source": [
    "# Matrices\n",
    "- $Ax$是$A$的列向量的线性组合\n",
    "- 线性独立的概念，和可逆的关系。$Ax = 0$只有一个解。"
   ]
  },
  {
   "cell_type": "code",
   "execution_count": 21,
   "metadata": {},
   "outputs": [
    {
     "name": "stdout",
     "output_type": "stream",
     "text": [
      "True\n"
     ]
    }
   ],
   "source": [
    "A = np.random.randn(3, 3)\n",
    "x = np.random.randn(3, 1)\n",
    "\n",
    "res1 = A @ x\n",
    "\n",
    "res2 = A[:, 0] * x[0] + A[:, 1] * x[1] + A[:, 2] * x[2]\n",
    "\n",
    "res2 = res2.reshape(res1.shape)\n",
    "print(np.allclose(res1, res2))"
   ]
  },
  {
   "cell_type": "markdown",
   "metadata": {},
   "source": [
    "## Matrix Multiplication\n",
    "有结合律，不保证交换律\n",
    "$$A(BC) = (AB)C$$\n",
    "$$AB \\neq BA$$\n",
    "\n",
    "大小\n",
    "$$(m \\times n)(n \\times p) = (m \\times p)$$\n",
    "\n",
    "1. 元素$(AB)_{i,j} = (\\text{row i of A}) \\cdot (\\text{column j of B})$\n",
    "2. $A$乘$B$的列向量：$A[b_1 \\dots b_p] = [Ab_1 \\dots Ab_p]$\n",
    "3. $A$的行向量乘$B$：$[\\text{row i of AB}] = [\\text{row i of A}]B$\n",
    "4. $AB = \\sum_{i = 1}^{p} (\\text{col i of A})(\\text{row i of B})$\n",
    "\n",
    "矩阵块运算"
   ]
  },
  {
   "cell_type": "code",
   "execution_count": 23,
   "metadata": {},
   "outputs": [
    {
     "name": "stdout",
     "output_type": "stream",
     "text": [
      "True\n"
     ]
    }
   ],
   "source": [
    "A = np.random.randn(2, 3)\n",
    "B = np.random.randn(3, 4)\n",
    "\n",
    "res1 = A @ B\n",
    "\n",
    "res2 = A[:, 0, None] @ B[None, 0, :] + A[:, 1, None] @ B[None, 1, :] + A[:, 2, None] @ B[None, 2, :]\n",
    "\n",
    "print(np.allclose(res1, res2))"
   ]
  }
 ],
 "metadata": {
  "kernelspec": {
   "display_name": "Python 3",
   "language": "python",
   "name": "python3"
  },
  "language_info": {
   "codemirror_mode": {
    "name": "ipython",
    "version": 3
   },
   "file_extension": ".py",
   "mimetype": "text/x-python",
   "name": "python",
   "nbconvert_exporter": "python",
   "pygments_lexer": "ipython3",
   "version": "3.8.2"
  }
 },
 "nbformat": 4,
 "nbformat_minor": 4
}
