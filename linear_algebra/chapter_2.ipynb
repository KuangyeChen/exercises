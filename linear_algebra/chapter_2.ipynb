{
 "cells": [
  {
   "cell_type": "code",
   "execution_count": 1,
   "metadata": {},
   "outputs": [],
   "source": [
    "import numpy as np"
   ]
  },
  {
   "cell_type": "markdown",
   "metadata": {},
   "source": [
    "# Vectors and Linear Equations\n",
    "\n",
    "- Row picture of $Ax = b$\n",
    "- Column picture of $Ax = b$\n"
   ]
  },
  {
   "cell_type": "markdown",
   "metadata": {},
   "source": [
    "# The Idea of Elimination\n",
    "\n",
    "1. 消元形成上三角矩阵，对角线上留下主元。\n",
    "2. 反向消除解出方程。\n",
    "\n",
    "主元不能为$0$，否则是无解（$0\\neq0$）或者多解($0=0$)。"
   ]
  },
  {
   "cell_type": "markdown",
   "metadata": {},
   "source": [
    "# Elimination Using Matrices\n",
    "\n",
    "$$E = \\begin{bmatrix}\n",
    "1  & 0 & 0\\\\\n",
    "-2 & 1 & 0 \\\\\n",
    "0  & 0 & 1\n",
    "\\end{bmatrix}$$"
   ]
  },
  {
   "cell_type": "code",
   "execution_count": 2,
   "metadata": {},
   "outputs": [
    {
     "name": "stdout",
     "output_type": "stream",
     "text": [
      "[[ 2  4 -2]\n",
      " [ 0  1  1]\n",
      " [-2 -3  7]]\n"
     ]
    }
   ],
   "source": [
    "A = np.array(\n",
    "    [[ 2,  4, -2],\n",
    "     [ 4,  9, -3],\n",
    "     [-2, -3,  7]]\n",
    ")\n",
    "\n",
    "E = np.array(\n",
    "    [[ 1,  0,  0],\n",
    "     [-2,  1,  0],\n",
    "     [ 0,  0,  1]]\n",
    ")\n",
    "\n",
    "print(E @ A)"
   ]
  },
  {
   "cell_type": "markdown",
   "metadata": {},
   "source": [
    "$$P = \\begin{bmatrix}\n",
    "0  & 1 & 0\\\\\n",
    "1 & 0 & 0 \\\\\n",
    "0  & 0 & 1\n",
    "\\end{bmatrix}$$"
   ]
  },
  {
   "cell_type": "code",
   "execution_count": 4,
   "metadata": {},
   "outputs": [
    {
     "name": "stdout",
     "output_type": "stream",
     "text": [
      "[[ 4  9 -3]\n",
      " [ 2  4 -2]\n",
      " [-2 -3  7]]\n"
     ]
    }
   ],
   "source": [
    "A = np.array(\n",
    "    [[ 2,  4, -2],\n",
    "     [ 4,  9, -3],\n",
    "     [-2, -3,  7]]\n",
    ")\n",
    "\n",
    "E = np.array(\n",
    "    [[ 0,  1,  0],\n",
    "     [ 1,  0,  0],\n",
    "     [ 0,  0,  1]]\n",
    ")\n",
    "\n",
    "print(E @ A)"
   ]
  },
  {
   "cell_type": "markdown",
   "metadata": {},
   "source": [
    "# Inverse Matrix\n",
    "$A$可逆：\n",
    "- $A$所有主元不为零\n",
    "- $\\det{A} \\neq 0$\n",
    "- $Ax = b$只有一个解\n",
    "\n",
    "$A$，$B$都可逆：\n",
    "$$(AB)^{-1} = B^{-1}A^{-1}$$\n",
    "\n",
    "Gauss-Jordan Elimination\n",
    "\n",
    "三角阵的逆\n",
    "\n",
    "Diagonally dominant matrices are invertible"
   ]
  },
  {
   "cell_type": "markdown",
   "metadata": {},
   "source": [
    "# LU Factorization\n",
    "$$ A = LU = LDU $$"
   ]
  },
  {
   "cell_type": "markdown",
   "metadata": {},
   "source": [
    "# Transpose and Permutation\n",
    "对称矩阵\n",
    "$$A^T = A$$\n",
    "$$A = LDU, A^T = U^TD^TL^T, D = D^T$$\n",
    "$$A = LDL^T$$\n",
    "点积\n",
    "$$x \\cdot y = x^Ty$$"
   ]
  },
  {
   "cell_type": "code",
   "execution_count": null,
   "metadata": {},
   "outputs": [],
   "source": []
  }
 ],
 "metadata": {
  "kernelspec": {
   "display_name": "Python 3",
   "language": "python",
   "name": "python3"
  },
  "language_info": {
   "codemirror_mode": {
    "name": "ipython",
    "version": 3
   },
   "file_extension": ".py",
   "mimetype": "text/x-python",
   "name": "python",
   "nbconvert_exporter": "python",
   "pygments_lexer": "ipython3",
   "version": "3.8.2"
  }
 },
 "nbformat": 4,
 "nbformat_minor": 4
}
